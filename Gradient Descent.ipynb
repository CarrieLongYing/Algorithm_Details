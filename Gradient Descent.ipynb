{
 "cells": [
  {
   "cell_type": "code",
   "execution_count": 1,
   "metadata": {},
   "outputs": [],
   "source": [
    "import pandas as pd\n",
    "import numpy as np\n",
    "import matplotlib.pyplot as plt\n",
    "from sklearn.linear_model import LinearRegression\n",
    "from sklearn.preprocessing import StandardScaler\n",
    "import math \n",
    "\n",
    "import warnings\n",
    "warnings.simplefilter(\"ignore\")"
   ]
  },
  {
   "cell_type": "markdown",
   "metadata": {},
   "source": [
    "This notebook digs into the details of gradient descent algorithem in OLS model and then compare the results with sklearn package"
   ]
  },
  {
   "cell_type": "markdown",
   "metadata": {},
   "source": [
    "# Load data "
   ]
  },
  {
   "cell_type": "markdown",
   "metadata": {},
   "source": [
    "The data set is about transcation price of commercial real estate and its releated information"
   ]
  },
  {
   "cell_type": "code",
   "execution_count": 2,
   "metadata": {
    "scrolled": true
   },
   "outputs": [
    {
     "name": "stdout",
     "output_type": "stream",
     "text": [
      "(17384, 21)\n"
     ]
    },
    {
     "data": {
      "text/html": [
       "<div>\n",
       "<style scoped>\n",
       "    .dataframe tbody tr th:only-of-type {\n",
       "        vertical-align: middle;\n",
       "    }\n",
       "\n",
       "    .dataframe tbody tr th {\n",
       "        vertical-align: top;\n",
       "    }\n",
       "\n",
       "    .dataframe thead th {\n",
       "        text-align: right;\n",
       "    }\n",
       "</style>\n",
       "<table border=\"1\" class=\"dataframe\">\n",
       "  <thead>\n",
       "    <tr style=\"text-align: right;\">\n",
       "      <th></th>\n",
       "      <th>id</th>\n",
       "      <th>date</th>\n",
       "      <th>price</th>\n",
       "      <th>bedrooms</th>\n",
       "      <th>bathrooms</th>\n",
       "      <th>sqft_living</th>\n",
       "      <th>sqft_lot</th>\n",
       "      <th>floors</th>\n",
       "      <th>waterfront</th>\n",
       "      <th>view</th>\n",
       "      <th>...</th>\n",
       "      <th>grade</th>\n",
       "      <th>sqft_above</th>\n",
       "      <th>sqft_basement</th>\n",
       "      <th>yr_built</th>\n",
       "      <th>yr_renovated</th>\n",
       "      <th>zipcode</th>\n",
       "      <th>lat</th>\n",
       "      <th>long</th>\n",
       "      <th>sqft_living15</th>\n",
       "      <th>sqft_lot15</th>\n",
       "    </tr>\n",
       "  </thead>\n",
       "  <tbody>\n",
       "    <tr>\n",
       "      <th>0</th>\n",
       "      <td>7129300520</td>\n",
       "      <td>20141013T000000</td>\n",
       "      <td>221900.0</td>\n",
       "      <td>3</td>\n",
       "      <td>1.00</td>\n",
       "      <td>1180</td>\n",
       "      <td>5650</td>\n",
       "      <td>1.0</td>\n",
       "      <td>0</td>\n",
       "      <td>0</td>\n",
       "      <td>...</td>\n",
       "      <td>7</td>\n",
       "      <td>1180</td>\n",
       "      <td>0</td>\n",
       "      <td>1955</td>\n",
       "      <td>0</td>\n",
       "      <td>98178</td>\n",
       "      <td>47.5112</td>\n",
       "      <td>-122.257</td>\n",
       "      <td>1340</td>\n",
       "      <td>5650</td>\n",
       "    </tr>\n",
       "    <tr>\n",
       "      <th>1</th>\n",
       "      <td>6414100192</td>\n",
       "      <td>20141209T000000</td>\n",
       "      <td>538000.0</td>\n",
       "      <td>3</td>\n",
       "      <td>2.25</td>\n",
       "      <td>2570</td>\n",
       "      <td>7242</td>\n",
       "      <td>2.0</td>\n",
       "      <td>0</td>\n",
       "      <td>0</td>\n",
       "      <td>...</td>\n",
       "      <td>7</td>\n",
       "      <td>2170</td>\n",
       "      <td>400</td>\n",
       "      <td>1951</td>\n",
       "      <td>1991</td>\n",
       "      <td>98125</td>\n",
       "      <td>47.7210</td>\n",
       "      <td>-122.319</td>\n",
       "      <td>1690</td>\n",
       "      <td>7639</td>\n",
       "    </tr>\n",
       "    <tr>\n",
       "      <th>2</th>\n",
       "      <td>5631500400</td>\n",
       "      <td>20150225T000000</td>\n",
       "      <td>180000.0</td>\n",
       "      <td>2</td>\n",
       "      <td>1.00</td>\n",
       "      <td>770</td>\n",
       "      <td>10000</td>\n",
       "      <td>1.0</td>\n",
       "      <td>0</td>\n",
       "      <td>0</td>\n",
       "      <td>...</td>\n",
       "      <td>6</td>\n",
       "      <td>770</td>\n",
       "      <td>0</td>\n",
       "      <td>1933</td>\n",
       "      <td>0</td>\n",
       "      <td>98028</td>\n",
       "      <td>47.7379</td>\n",
       "      <td>-122.233</td>\n",
       "      <td>2720</td>\n",
       "      <td>8062</td>\n",
       "    </tr>\n",
       "  </tbody>\n",
       "</table>\n",
       "<p>3 rows × 21 columns</p>\n",
       "</div>"
      ],
      "text/plain": [
       "           id             date     price  bedrooms  bathrooms  sqft_living  \\\n",
       "0  7129300520  20141013T000000  221900.0         3       1.00         1180   \n",
       "1  6414100192  20141209T000000  538000.0         3       2.25         2570   \n",
       "2  5631500400  20150225T000000  180000.0         2       1.00          770   \n",
       "\n",
       "   sqft_lot  floors  waterfront  view     ...      grade  sqft_above  \\\n",
       "0      5650     1.0           0     0     ...          7        1180   \n",
       "1      7242     2.0           0     0     ...          7        2170   \n",
       "2     10000     1.0           0     0     ...          6         770   \n",
       "\n",
       "   sqft_basement  yr_built  yr_renovated  zipcode      lat     long  \\\n",
       "0              0      1955             0    98178  47.5112 -122.257   \n",
       "1            400      1951          1991    98125  47.7210 -122.319   \n",
       "2              0      1933             0    98028  47.7379 -122.233   \n",
       "\n",
       "   sqft_living15  sqft_lot15  \n",
       "0           1340        5650  \n",
       "1           1690        7639  \n",
       "2           2720        8062  \n",
       "\n",
       "[3 rows x 21 columns]"
      ]
     },
     "execution_count": 2,
     "metadata": {},
     "output_type": "execute_result"
    }
   ],
   "source": [
    "training = pd.read_csv(\"kc_house_train_data.csv\")\n",
    "print(training.shape)\n",
    "training.head(3)"
   ]
  },
  {
   "cell_type": "code",
   "execution_count": 3,
   "metadata": {},
   "outputs": [
    {
     "data": {
      "text/plain": [
       "Index([u'id', u'date', u'price', u'bedrooms', u'bathrooms', u'sqft_living',\n",
       "       u'sqft_lot', u'floors', u'waterfront', u'view', u'condition', u'grade',\n",
       "       u'sqft_above', u'sqft_basement', u'yr_built', u'yr_renovated',\n",
       "       u'zipcode', u'lat', u'long', u'sqft_living15', u'sqft_lot15'],\n",
       "      dtype='object')"
      ]
     },
     "execution_count": 3,
     "metadata": {},
     "output_type": "execute_result"
    }
   ],
   "source": [
    "training.columns"
   ]
  },
  {
   "cell_type": "markdown",
   "metadata": {},
   "source": [
    "# OLS with sklearn package"
   ]
  },
  {
   "cell_type": "code",
   "execution_count": 4,
   "metadata": {},
   "outputs": [],
   "source": [
    "# normalized the training data:\n",
    "trained_features = training[[\"bedrooms\", 'sqft_living', 'sqft_living15']]\n",
    "scaler = StandardScaler()\n",
    "scaler.fit((trained_features))\n",
    "trained_features_scaled = scaler.transform(trained_features)\n",
    "trained_features_scaled = pd.DataFrame(trained_features_scaled)"
   ]
  },
  {
   "cell_type": "code",
   "execution_count": 5,
   "metadata": {},
   "outputs": [
    {
     "name": "stdout",
     "output_type": "stream",
     "text": [
      "[-55667.49142952 263191.09866808  39094.57566696]\n",
      "539366.6279337321\n"
     ]
    }
   ],
   "source": [
    "# sklearn's LinearRegression as comparison\n",
    "learn_model = LinearRegression()\n",
    "learn_model.fit(trained_features_scaled,training[\"price\"])\n",
    "print(learn_model.coef_)\n",
    "print(learn_model.intercept_)"
   ]
  },
  {
   "cell_type": "markdown",
   "metadata": {},
   "source": [
    "# Gradient descent"
   ]
  },
  {
   "cell_type": "code",
   "execution_count": 6,
   "metadata": {},
   "outputs": [],
   "source": [
    "def comp_rss(y, y_hat):  \n",
    "    rss = np.sum((y - y_hat)**2)\n",
    "    return rss \n",
    "def comp_predict_y(x_matrix, weights):\n",
    "    num_obser = x_matrix.shape[0]\n",
    "    predict_y = np.ones(num_obser)\n",
    "    for i in range(num_obser):\n",
    "        predict_y[i] = np.dot(x_matrix[i].reshape(1,-1),np.array(weights).reshape(-1,1))\n",
    "    return predict_y"
   ]
  },
  {
   "cell_type": "code",
   "execution_count": 7,
   "metadata": {},
   "outputs": [],
   "source": [
    "def regression_gradient_descent(x_matrix, output, initial_weights, step_size, tolerance):\n",
    "    num_obser = x_matrix.shape[0]\n",
    "    num_features = x_matrix.shape[1]\n",
    "    weights = initial_weights\n",
    "    congerged = False\n",
    "    gradient_magnitude_list = []\n",
    "    \n",
    "    while not congerged:\n",
    "        predict_y = comp_predict_y(x_matrix, weights)\n",
    "        rss = comp_rss(output, predict_y)\n",
    "        gradient_sum_squares = 0\n",
    "        for i in range(num_features):\n",
    "            sum_term = np.dot((predict_y - output).reshape(1,-1), (x_matrix[:,i].reshape(-1,1)))\n",
    "            weights[i] = weights[i] - 2* step_size * sum_term\n",
    "            gradient_sum_squares = gradient_sum_squares + (2*sum_term)**2\n",
    "        gradient_magnitude = math.sqrt(gradient_sum_squares)\n",
    "        gradient_magnitude_list.append(gradient_magnitude)\n",
    "        if gradient_magnitude < tolerance or len(gradient_magnitude_list) == 100:\n",
    "            congerged = True\n",
    "        \n",
    "    return weights,gradient_magnitude_list"
   ]
  },
  {
   "cell_type": "code",
   "execution_count": 8,
   "metadata": {},
   "outputs": [
    {
     "data": {
      "text/plain": [
       "[array([[-55635.25188209]]),\n",
       " array([[263099.35836971]]),\n",
       " array([[39165.63544664]]),\n",
       " array([[539366.62793373]])]"
      ]
     },
     "execution_count": 8,
     "metadata": {},
     "output_type": "execute_result"
    }
   ],
   "source": [
    "trained_features_scaled[\"constant\"] = 1\n",
    "x_matrix = np.array(trained_features_scaled)\n",
    "output = np.array(training[\"price\"])\n",
    "tolerance = 1e6\n",
    "initial_weights = [1, 1, 1, 1]\n",
    "step_size = 0.00001\n",
    "weight, gradient_magnitude_list = regression_gradient_descent(x_matrix, output, initial_weights, step_size, tolerance)\n",
    "weight"
   ]
  },
  {
   "cell_type": "markdown",
   "metadata": {},
   "source": [
    "Similar coeffient as sklearn function, so it is appropriate to set 1e6 as tolerance"
   ]
  },
  {
   "cell_type": "code",
   "execution_count": 9,
   "metadata": {},
   "outputs": [
    {
     "data": {
      "image/png": "[encoded data removed]",
      "text/plain": [
       "<Figure size 432x288 with 1 Axes>"
      ]
     },
     "metadata": {
      "needs_background": "light"
     },
     "output_type": "display_data"
    },
    {
     "data": {
      "image/png": "[encoded data removed]",
      "text/plain": [
       "<Figure size 432x288 with 1 Axes>"
      ]
     },
     "metadata": {
      "needs_background": "light"
     },
     "output_type": "display_data"
    },
    {
     "data": {
      "image/png": "[encoded data removed]",
      "text/plain": [
       "<Figure size 432x288 with 1 Axes>"
      ]
     },
     "metadata": {
      "needs_background": "light"
     },
     "output_type": "display_data"
    }
   ],
   "source": [
    "initial_weights = [1, 1, 1, 1]\n",
    "step_size = 0.0001\n",
    "weight, gradient_magnitude_list = regression_gradient_descent(x_matrix, output, initial_weights, step_size, tolerance)\n",
    "gradient_magnitude_list\n",
    "plt.plot(range(len(gradient_magnitude_list)), gradient_magnitude_list)\n",
    "plt.title(\"Gradient magnitude with step size of \" + str(step_size))\n",
    "plt.show()\n",
    "\n",
    "initial_weights = [1, 1, 1, 1]\n",
    "step_size = 0.00001\n",
    "weight, gradient_magnitude_list = regression_gradient_descent(x_matrix, output, initial_weights, step_size, tolerance)\n",
    "gradient_magnitude_list\n",
    "plt.plot(range(len(gradient_magnitude_list)),  gradient_magnitude_list)\n",
    "plt.title(\"Gradient magnitude with step size of \" + str(step_size))\n",
    "plt.show()\n",
    "\n",
    "initial_weights = [1, 1, 1, 1]\n",
    "step_size = 0.000001\n",
    "weight, gradient_magnitude_list = regression_gradient_descent(x_matrix, output, initial_weights, step_size, tolerance)\n",
    "gradient_magnitude_list\n",
    "plt.plot(range(len(gradient_magnitude_list)), gradient_magnitude_list)\n",
    "plt.title(\"Gradient magnitude with step size of \" + str(step_size))\n",
    "plt.show()"
   ]
  },
  {
   "cell_type": "markdown",
   "metadata": {},
   "source": [
    "We can see from the plots:\n",
    "- The cost function will diverging and never reach the target point  if the step size is too large, eg 0.0001 in this case\n",
    "- As the step size get smaller, the gradient descent funtion will reach the minimum grident point; However, if the step size is too smaller (eg 0.000001), it will need very long time to converge."
   ]
  },
  {
   "cell_type": "code",
   "execution_count": null,
   "metadata": {},
   "outputs": [],
   "source": []
  }
 ],
 "metadata": {
  "kernelspec": {
   "display_name": "Python 2",
   "language": "python",
   "name": "python2"
  },
  "language_info": {
   "codemirror_mode": {
    "name": "ipython",
    "version": 2
   },
   "file_extension": ".py",
   "mimetype": "text/x-python",
   "name": "python",
   "nbconvert_exporter": "python",
   "pygments_lexer": "ipython2",
   "version": "2.7.15"
  }
 },
 "nbformat": 4,
 "nbformat_minor": 2
}
